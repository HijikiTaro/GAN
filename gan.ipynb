{
  "nbformat": 4,
  "nbformat_minor": 0,
  "metadata": {
    "colab": {
      "name": "hello-GAN.ipynb",
      "version": "0.3.2",
      "provenance": []
    },
    "kernelspec": {
      "name": "python3",
      "display_name": "Python 3"
    },
    "accelerator": "GPU"
  },
  "cells": [
    {
      "cell_type": "markdown",
      "metadata": {
        "id": "Gp36uF7N5npG",
        "colab_type": "text"
      },
      "source": [
        "GAN チュートリアル実装\n",
        "\n",
        "MNISTをもとに画像自動生成\n",
        "\n"
      ]
    },
    {
      "cell_type": "code",
      "metadata": {
        "id": "zgCGX4ppF2FH",
        "colab_type": "code",
        "colab": {}
      },
      "source": [
        "from google.colab import drive\n",
        "drive.mount('/content/gdrive')"
      ],
      "execution_count": 0,
      "outputs": []
    },
    {
      "cell_type": "code",
      "metadata": {
        "id": "uGwqhL1M9dJi",
        "colab_type": "code",
        "colab": {}
      },
      "source": [
        "import os\n",
        "import numpy as np\n",
        "from tqdm import tqdm\n",
        "import matplotlib.pyplot as plt\n",
        "\n",
        "import keras\n",
        "from keras.models import Sequential\n",
        "from keras.layers import Dense, Activation, BatchNormalization\n",
        "\n",
        "from keras.optimizers import SGD\n",
        "from keras.datasets import mnist\n",
        "from keras.regularizers import l1_l2"
      ],
      "execution_count": 0,
      "outputs": []
    },
    {
      "cell_type": "code",
      "metadata": {
        "id": "mVYVMMxP9kly",
        "colab_type": "code",
        "colab": {}
      },
      "source": [
        "# MNIST画像を表示\n",
        "def plot_mnist(vector):\n",
        "    vector = vector.reshape((28,28))\n",
        "    plt.close()"
      ],
      "execution_count": 0,
      "outputs": []
    },
    {
      "cell_type": "code",
      "metadata": {
        "id": "_jjvjH1r9pAg",
        "colab_type": "code",
        "colab": {}
      },
      "source": [
        "# noise[[examples, 100]]から生成した画像をplot_dim(例えば3x3)で表示\n",
        "def plot_generated(noise, generator_model, examples=9, plot_dim=(3,3), size=(7,7), epoch=None):\n",
        "    # noiseからgeneratorで画像を生成\n",
        "    generated_images = generator_model.predict(noise)\n",
        "\n",
        "    # 表示\n",
        "    fig = plt.figure(figsize=size)\n",
        "    for i in range(examples):\n",
        "        plt.subplot(plot_dim[0], plot_dim[1], i+1)\n",
        "        img = generated_images[i, :]\n",
        "        img = img.reshape((28, 28))\n",
        "        plt.tight_layout()\n",
        "        plt.imshow(img, cmap=\"gray\")\n",
        "        plt.axis(\"off\")\n",
        "    plt.savefig(os.path.join(\"/content/gdrive/My Drive/hello-GAN/generated_figures\", str(epoch) + \".png\"))\n",
        "    plt.close()"
      ],
      "execution_count": 0,
      "outputs": []
    },
    {
      "cell_type": "code",
      "metadata": {
        "id": "BdMUOrLt9u34",
        "colab_type": "code",
        "colab": {}
      },
      "source": [
        "def plot_metrics(metrics, epoch=None):\n",
        "    plt.figure(figsize=(10,8))\n",
        "    plt.plot(metrics[\"d\"], label=\"discriminative loss\", color=\"b\")\n",
        "    plt.legend()\n",
        "    plt.savefig(os.path.join(\"/content/gdrive/My Drive/hello-GAN/metrics\", \"dloss\" + str(epoch) + \".png\"))\n",
        "    plt.close()\n",
        "\n",
        "    plt.figure(figsize=(10,8))\n",
        "    plt.plot(metrics[\"g\"], label=\"generative loss\", color=\"r\")\n",
        "    plt.legend()\n",
        "    plt.savefig(os.path.join(\"/content/gdrive/My Drive/hello-GAN/metrics\", \"g_loss\" + str(epoch) + \".png\"))\n",
        "    plt.close()"
      ],
      "execution_count": 0,
      "outputs": []
    },
    {
      "cell_type": "code",
      "metadata": {
        "id": "CLPMEBKp9y2k",
        "colab_type": "code",
        "colab": {}
      },
      "source": [
        "def Generator():\n",
        "    act = keras.layers.advanced_activations.LeakyReLU(alpha=0.2)\n",
        "    Gen = Sequential()\n",
        "    Gen.add(Dense(input_dim=100, units=256, kernel_regularizer=l1_l2(1e-5, 1e-5)))\n",
        "    Gen.add(BatchNormalization(mode=0))\n",
        "    Gen.add(act)\n",
        "    Gen.add(Dense(units=512, kernel_regularizer=l1_l2(1e-5, 1e-5)))\n",
        "    Gen.add(BatchNormalization(mode=0))\n",
        "    Gen.add(act)\n",
        "    Gen.add(Dense(units=1024, kernel_regularizer=l1_l2(1e-5, 1e-5)))\n",
        "    Gen.add(BatchNormalization(mode=0))\n",
        "    Gen.add(act)\n",
        "    Gen.add(Dense(units=28*28, kernel_regularizer=l1_l2(1e-5, 1e-5)))\n",
        "    Gen.add(BatchNormalization(mode=0))\n",
        "    Gen.add(Activation(\"sigmoid\"))\n",
        "    generator_optimizer = SGD(lr=0.1, momentum=0.3, decay=1e-5)\n",
        "    # Generatorは単独で訓練しないので下のcompileはいらない\n",
        "    Gen.compile(loss=\"binary_crossentropy\", optimizer=generator_optimizer)\n",
        "    return Gen"
      ],
      "execution_count": 0,
      "outputs": []
    },
    {
      "cell_type": "code",
      "metadata": {
        "id": "hh__5KGv92NI",
        "colab_type": "code",
        "colab": {}
      },
      "source": [
        "def Discriminator():\n",
        "    act = keras.layers.advanced_activations.LeakyReLU(alpha=0.2)\n",
        "    Dis = Sequential()\n",
        "    Dis.add(Dense(input_dim=784, units=1024, kernel_regularizer=l1_l2(1e-5, 1e-5)))\n",
        "    Dis.add(act)\n",
        "    Dis.add(Dense(units=512, kernel_regularizer=l1_l2(1e-5, 1e-5)))\n",
        "    Dis.add(act)\n",
        "    Dis.add(Dense(units=256, kernel_regularizer=l1_l2(1e-5, 1e-5)))\n",
        "    Dis.add(act)\n",
        "    Dis.add(Dense(units=1, kernel_regularizer=l1_l2(1e-5, 1e-5)))\n",
        "    Dis.add(Activation(\"sigmoid\"))\n",
        "    discriminator_optimizer = SGD(lr=0.1, momentum=0.1, decay=1e-5)\n",
        "    Dis.compile(loss=\"binary_crossentropy\", optimizer=discriminator_optimizer)\n",
        "    return Dis"
      ],
      "execution_count": 0,
      "outputs": []
    },
    {
      "cell_type": "code",
      "metadata": {
        "id": "_FhnubN396wr",
        "colab_type": "code",
        "colab": {}
      },
      "source": [
        "def Generative_Adversarial_Network(generator_model, discriminator_model):\n",
        "    GAN = Sequential()\n",
        "    GAN.add(generator_model)\n",
        "    discriminator_model.trainable=False\n",
        "    GAN.add(discriminator_model)\n",
        "    gan_optimizer = SGD(0.1, momentum=0.3)\n",
        "    GAN.compile(loss=\"binary_crossentropy\", optimizer=gan_optimizer)\n",
        "    return GAN"
      ],
      "execution_count": 0,
      "outputs": []
    },
    {
      "cell_type": "code",
      "metadata": {
        "id": "7lr0njch99_y",
        "colab_type": "code",
        "colab": {}
      },
      "source": [
        "(X_train, y_train), (X_test, y_test) = mnist.load_data()\n",
        "\n",
        "X_train = X_train.reshape(X_train.shape[0], 28*28)\n",
        "X_test = X_test.reshape(X_test.shape[0], 28*28)\n",
        "X_train.astype('float32')\n",
        "X_test.astype('float32')\n",
        "X_train = X_train/255\n",
        "X_test = X_test/255\n",
        "\n",
        "print(\"X_train shape\", X_train.shape)\n",
        "print(X_train.shape[0], \"train samples\")\n",
        "print(X_test.shape[0], \"test samples\")"
      ],
      "execution_count": 0,
      "outputs": []
    },
    {
      "cell_type": "code",
      "metadata": {
        "id": "nw9Zo2ef-F83",
        "colab_type": "code",
        "colab": {}
      },
      "source": [
        "def main_train(z_input_size, generator_model, discriminator_model, gan_model, loss_dict, X_train, generated_figures=None, z_group=None, z_plot_freq=200, epoch=1000, plot_freq=25, batch=100):\n",
        "\n",
        "    # tqdmでプログレスバー表示\n",
        "    with tqdm(total=epoch) as pbar:\n",
        "        for e in range(epoch):\n",
        "            pbar.update(1)\n",
        "\n",
        "            # 生成データをノイズから生成\n",
        "            noise = np.random.uniform(0, 1, size=[batch, z_input_size])\n",
        "            generated_images = generator_model.predict_on_batch(noise)\n",
        "\n",
        "            # 訓練データをMNISTデータ群から抜粋\n",
        "            rand_train_index = np.random.randint(0, X_train.shape[0], size=batch)\n",
        "            image_batch = X_train[rand_train_index, :]\n",
        "\n",
        "            # 訓練データと生成データを結合\n",
        "            X = np.vstack((image_batch, generated_images))\n",
        "            # ラベル作成\n",
        "            y = np.zeros(int(2*batch))\n",
        "            y[batch:] = 1\n",
        "            y = y.astype(int)\n",
        "\n",
        "            # discriminatorの学習\n",
        "            discriminator_model.trainable = True\n",
        "            d_loss = discriminator_model.train_on_batch(x=X, y=y)\n",
        "            discriminator_model.trainable = False\n",
        "\n",
        "            # generatorの学習\n",
        "            noise = np.random.uniform(0, 1, size=[batch, z_input_size])\n",
        "            y = np.zeros(batch)\n",
        "            y = y.astype(int)\n",
        "            g_loss = gan_model.train_on_batch(x=noise, y=y)\n",
        "\n",
        "            loss_dict[\"d\"].append(d_loss)\n",
        "            loss_dict[\"g\"].append(g_loss)\n",
        "\n",
        "            # グラフ描画\n",
        "            if e%plot_freq == plot_freq-1:\n",
        "                plot_metrics(loss_dict, int(e/plot_freq))\n",
        "                \n",
        "            # 訓練したgeneratorによる生成画像を可視化\n",
        "            if e < epoch:\n",
        "                if e%z_plot_freq == z_plot_freq-1:\n",
        "                    plot_generated(z_group, generator_model=generator_model, epoch=int(e/z_plot_freq))\n",
        "                    #generated_figures.append(fig)"
      ],
      "execution_count": 0,
      "outputs": []
    },
    {
      "cell_type": "code",
      "metadata": {
        "id": "zdivcTsm-LE7",
        "colab_type": "code",
        "colab": {}
      },
      "source": [
        "# モデル生成\n",
        "Gen = Generator()\n",
        "Dis = Discriminator()\n",
        "GAN = Generative_Adversarial_Network(Gen, Dis)\n",
        "GAN.summary()\n",
        "\n",
        "Gen.summary()\n",
        "Dis.summary()\n",
        "\n",
        "\n",
        "# パラメータ設定\n",
        "gan_losses = {\"d\":[], \"g\":[], \"f\":[]}\n",
        "epoch = 300000\n",
        "batch = 1000\n",
        "z_plot_freq = 1000\n",
        "plot_freq = 10000\n",
        "z_input_vector = 100\n",
        "n_train_samples = 60000\n",
        "examples = 9\n",
        "\n",
        "z_group_matrix = np.random.uniform(0,1,examples*z_input_vector)\n",
        "z_group_matrix = z_group_matrix.reshape([9, z_input_vector])\n",
        "print(z_group_matrix.shape)\n",
        "\n",
        "generated_figures = []"
      ],
      "execution_count": 0,
      "outputs": []
    },
    {
      "cell_type": "code",
      "metadata": {
        "id": "3qlDasr9-SB0",
        "colab_type": "code",
        "colab": {}
      },
      "source": [
        "main_train(\n",
        "    100, \n",
        "    Gen, \n",
        "    Dis, \n",
        "    GAN, \n",
        "    loss_dict=gan_losses, \n",
        "    X_train=X_train, \n",
        "    generated_figures=n_train_samples, \n",
        "    z_group=z_group_matrix, \n",
        "    z_plot_freq=z_plot_freq, \n",
        "    epoch=epoch, \n",
        "    plot_freq=plot_freq, \n",
        "    batch=batch\n",
        ")"
      ],
      "execution_count": 0,
      "outputs": []
    }
  ]
}
